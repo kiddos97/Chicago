{
 "cells": [
  {
   "cell_type": "code",
   "execution_count": 4,
   "metadata": {},
   "outputs": [],
   "source": [
    "import ibm_db\n",
    "import ibm_db_sa\n",
    "import sqlalchemy\n",
    "%load_ext sql"
   ]
  },
  {
   "cell_type": "code",
   "execution_count": 5,
   "metadata": {},
   "outputs": [
    {
     "name": "stdout",
     "output_type": "stream",
     "text": [
      "Requirement already satisfied: sqlalchemy==1.3.9 in e:\\juypter\\lib\\site-packages (1.3.9)\n",
      "Requirement already satisfied: ibm_db_sa in e:\\juypter\\lib\\site-packages (0.3.7)\n",
      "Requirement already satisfied: sqlalchemy>=0.7.3 in e:\\juypter\\lib\\site-packages (from ibm_db_sa) (1.3.9)\n",
      "Requirement already satisfied: ibm-db>=2.0.0 in e:\\juypter\\lib\\site-packages (from ibm_db_sa) (3.0.4)\n"
     ]
    }
   ],
   "source": [
    "!pip install sqlalchemy==1.3.9\n",
    "!pip install ibm_db_sa"
   ]
  },
  {
   "cell_type": "code",
   "execution_count": 6,
   "metadata": {},
   "outputs": [
    {
     "name": "stdout",
     "output_type": "stream",
     "text": [
      "The sql extension is already loaded. To reload it, use:\n",
      "  %reload_ext sql\n"
     ]
    }
   ],
   "source": [
    "%load_ext sql"
   ]
  },
  {
   "cell_type": "code",
   "execution_count": 7,
   "metadata": {},
   "outputs": [],
   "source": [
    "%sql ibm_db_sa://xpc66839:E8Hfc7tNj2WSPpYb@54a2f15b-5c0f-46df-8954-7e38e612c2bd.c1ogj3sd0tgtu0lqde00.databases.appdomain.cloud:32733/bludb?security=SSL"
   ]
  },
  {
   "cell_type": "code",
   "execution_count": 8,
   "metadata": {},
   "outputs": [
    {
     "name": "stdout",
     "output_type": "stream",
     "text": [
      " * ibm_db_sa://xpc66839:***@54a2f15b-5c0f-46df-8954-7e38e612c2bd.c1ogj3sd0tgtu0lqde00.databases.appdomain.cloud:32733/bludb\n",
      "Done.\n"
     ]
    },
    {
     "data": {
      "text/html": [
       "<table>\n",
       "    <tr>\n",
       "        <th>1</th>\n",
       "    </tr>\n",
       "    <tr>\n",
       "        <td>533</td>\n",
       "    </tr>\n",
       "</table>"
      ],
      "text/plain": [
       "[(533,)]"
      ]
     },
     "execution_count": 8,
     "metadata": {},
     "output_type": "execute_result"
    }
   ],
   "source": [
    "%sql select count(*) from CHICAGO_CRIME_DATA"
   ]
  },
  {
   "cell_type": "code",
   "execution_count": 9,
   "metadata": {},
   "outputs": [
    {
     "name": "stdout",
     "output_type": "stream",
     "text": [
      " * ibm_db_sa://xpc66839:***@54a2f15b-5c0f-46df-8954-7e38e612c2bd.c1ogj3sd0tgtu0lqde00.databases.appdomain.cloud:32733/bludb\n",
      "Done.\n"
     ]
    },
    {
     "data": {
      "text/html": [
       "<table>\n",
       "    <tr>\n",
       "        <th>community_area_name</th>\n",
       "    </tr>\n",
       "    <tr>\n",
       "        <td>West Garfield Park</td>\n",
       "    </tr>\n",
       "    <tr>\n",
       "        <td>South Lawndale</td>\n",
       "    </tr>\n",
       "    <tr>\n",
       "        <td>Fuller Park</td>\n",
       "    </tr>\n",
       "    <tr>\n",
       "        <td>Riverdale</td>\n",
       "    </tr>\n",
       "</table>"
      ],
      "text/plain": [
       "[('West Garfield Park',),\n",
       " ('South Lawndale',),\n",
       " ('Fuller Park',),\n",
       " ('Riverdale',)]"
      ]
     },
     "execution_count": 9,
     "metadata": {},
     "output_type": "execute_result"
    }
   ],
   "source": [
    "%sql select COMMUNITY_AREA_NAME from CENSUS_DATA where PER_CAPITA_INCOME < 11000\n"
   ]
  },
  {
   "cell_type": "code",
   "execution_count": 57,
   "metadata": {},
   "outputs": [
    {
     "name": "stdout",
     "output_type": "stream",
     "text": [
      " * ibm_db_sa://xpc66839:***@54a2f15b-5c0f-46df-8954-7e38e612c2bd.c1ogj3sd0tgtu0lqde00.databases.appdomain.cloud:32733/bludb\n",
      "Done.\n"
     ]
    },
    {
     "data": {
      "text/html": [
       "<table>\n",
       "    <tr>\n",
       "        <th>case_number</th>\n",
       "    </tr>\n",
       "    <tr>\n",
       "        <td>HL266884</td>\n",
       "    </tr>\n",
       "    <tr>\n",
       "        <td>HK238408</td>\n",
       "    </tr>\n",
       "</table>"
      ],
      "text/plain": [
       "[('HL266884',), ('HK238408',)]"
      ]
     },
     "execution_count": 57,
     "metadata": {},
     "output_type": "execute_result"
    }
   ],
   "source": [
    "%sql select CASE_NUMBER from CHICAGO_CRIME_DATA where DESCRIPTION LIKE '%MINOR%'"
   ]
  },
  {
   "cell_type": "code",
   "execution_count": 55,
   "metadata": {},
   "outputs": [
    {
     "name": "stdout",
     "output_type": "stream",
     "text": [
      " * ibm_db_sa://xpc66839:***@54a2f15b-5c0f-46df-8954-7e38e612c2bd.c1ogj3sd0tgtu0lqde00.databases.appdomain.cloud:32733/bludb\n",
      "Done.\n"
     ]
    },
    {
     "data": {
      "text/html": [
       "<table>\n",
       "    <tr>\n",
       "        <th>id</th>\n",
       "        <th>case_number</th>\n",
       "        <th>DATE</th>\n",
       "        <th>block</th>\n",
       "        <th>iucr</th>\n",
       "        <th>primary_type</th>\n",
       "        <th>description</th>\n",
       "        <th>location_description</th>\n",
       "        <th>arrest</th>\n",
       "        <th>domestic</th>\n",
       "        <th>beat</th>\n",
       "        <th>district</th>\n",
       "        <th>ward</th>\n",
       "        <th>community_area_number</th>\n",
       "        <th>fbicode</th>\n",
       "        <th>x_coordinate</th>\n",
       "        <th>y_coordinate</th>\n",
       "        <th>YEAR</th>\n",
       "        <th>latitude</th>\n",
       "        <th>longitude</th>\n",
       "        <th>location</th>\n",
       "    </tr>\n",
       "    <tr>\n",
       "        <td>5276766</td>\n",
       "        <td>HN144152</td>\n",
       "        <td>2007-01-26</td>\n",
       "        <td>050XX W VAN BUREN ST</td>\n",
       "        <td>1792</td>\n",
       "        <td>KIDNAPPING</td>\n",
       "        <td>CHILD ABDUCTION/STRANGER</td>\n",
       "        <td>STREET</td>\n",
       "        <td>FALSE</td>\n",
       "        <td>FALSE</td>\n",
       "        <td>1533</td>\n",
       "        <td>15</td>\n",
       "        <td>29</td>\n",
       "        <td>25</td>\n",
       "        <td>20</td>\n",
       "        <td>1143050</td>\n",
       "        <td>1897546</td>\n",
       "        <td>2007</td>\n",
       "        <td>41.87490841</td>\n",
       "        <td>-87.75024931</td>\n",
       "        <td>(41.874908413, -87.750249307)</td>\n",
       "    </tr>\n",
       "</table>"
      ],
      "text/plain": [
       "[(5276766, 'HN144152', datetime.date(2007, 1, 26), '050XX W VAN BUREN ST', '1792', 'KIDNAPPING', 'CHILD ABDUCTION/STRANGER', 'STREET', 'FALSE', 'FALSE', 1533, 15, 29, 25, '20', 1143050, 1897546, 2007, Decimal('41.87490841'), Decimal('-87.75024931'), '(41.874908413, -87.750249307)')]"
      ]
     },
     "execution_count": 55,
     "metadata": {},
     "output_type": "execute_result"
    }
   ],
   "source": [
    "%sql select * from CHICAGO_CRIME_DATA where PRIMARY_TYPE ='KIDNAPPING'AND DESCRIPTION LIKE '%CHILD%'"
   ]
  },
  {
   "cell_type": "code",
   "execution_count": 53,
   "metadata": {},
   "outputs": [
    {
     "name": "stdout",
     "output_type": "stream",
     "text": [
      " * ibm_db_sa://xpc66839:***@54a2f15b-5c0f-46df-8954-7e38e612c2bd.c1ogj3sd0tgtu0lqde00.databases.appdomain.cloud:32733/bludb\n",
      "Done.\n"
     ]
    },
    {
     "data": {
      "text/html": [
       "<table>\n",
       "    <tr>\n",
       "        <th>primary_type</th>\n",
       "    </tr>\n",
       "    <tr>\n",
       "        <td>ASSAULT</td>\n",
       "    </tr>\n",
       "    <tr>\n",
       "        <td>BATTERY</td>\n",
       "    </tr>\n",
       "    <tr>\n",
       "        <td>CRIMINAL DAMAGE</td>\n",
       "    </tr>\n",
       "    <tr>\n",
       "        <td>CRIMINAL TRESPA</td>\n",
       "    </tr>\n",
       "    <tr>\n",
       "        <td>NARCOTICS</td>\n",
       "    </tr>\n",
       "    <tr>\n",
       "        <td>PUBLIC PEACE VI</td>\n",
       "    </tr>\n",
       "</table>"
      ],
      "text/plain": [
       "[('ASSAULT',),\n",
       " ('BATTERY',),\n",
       " ('CRIMINAL DAMAGE',),\n",
       " ('CRIMINAL TRESPA',),\n",
       " ('NARCOTICS',),\n",
       " ('PUBLIC PEACE VI',)]"
      ]
     },
     "execution_count": 53,
     "metadata": {},
     "output_type": "execute_result"
    }
   ],
   "source": [
    "%sql select DISTINCT(PRIMARY_TYPE) from CHICAGO_CRIME_DATA where LOCATION_DESCRIPTION LIKE '%SCHOOL%'"
   ]
  },
  {
   "cell_type": "code",
   "execution_count": 32,
   "metadata": {},
   "outputs": [
    {
     "name": "stdout",
     "output_type": "stream",
     "text": [
      " * ibm_db_sa://xpc66839:***@54a2f15b-5c0f-46df-8954-7e38e612c2bd.c1ogj3sd0tgtu0lqde00.databases.appdomain.cloud:32733/bludb\n",
      "Done.\n"
     ]
    },
    {
     "data": {
      "text/html": [
       "<table>\n",
       "    <tr>\n",
       "        <th>average</th>\n",
       "    </tr>\n",
       "    <tr>\n",
       "        <td>49</td>\n",
       "    </tr>\n",
       "</table>"
      ],
      "text/plain": [
       "[(49,)]"
      ]
     },
     "execution_count": 32,
     "metadata": {},
     "output_type": "execute_result"
    }
   ],
   "source": [
    "%sql select AVG(SAFETY_SCORE) as AVERAGE from CHICAGO_PUBLIC_SCHOOLS"
   ]
  },
  {
   "cell_type": "code",
   "execution_count": 39,
   "metadata": {},
   "outputs": [
    {
     "name": "stdout",
     "output_type": "stream",
     "text": [
      " * ibm_db_sa://xpc66839:***@54a2f15b-5c0f-46df-8954-7e38e612c2bd.c1ogj3sd0tgtu0lqde00.databases.appdomain.cloud:32733/bludb\n",
      "Done.\n"
     ]
    },
    {
     "data": {
      "text/html": [
       "<table>\n",
       "    <tr>\n",
       "        <th>community_area_name</th>\n",
       "    </tr>\n",
       "    <tr>\n",
       "        <td>West Garfield Park</td>\n",
       "    </tr>\n",
       "    <tr>\n",
       "        <td>East Garfield Park</td>\n",
       "    </tr>\n",
       "    <tr>\n",
       "        <td>North Lawndale</td>\n",
       "    </tr>\n",
       "    <tr>\n",
       "        <td>Armour Square</td>\n",
       "    </tr>\n",
       "    <tr>\n",
       "        <td>Fuller Park</td>\n",
       "    </tr>\n",
       "</table>"
      ],
      "text/plain": [
       "[('West Garfield Park',),\n",
       " ('East Garfield Park',),\n",
       " ('North Lawndale',),\n",
       " ('Armour Square',),\n",
       " ('Fuller Park',)]"
      ]
     },
     "execution_count": 39,
     "metadata": {},
     "output_type": "execute_result"
    }
   ],
   "source": [
    "%sql select COMMUNITY_AREA_NAME from CENSUS_DATA where PERCENT_HOUSEHOLDS_BELOW_POVERTY > '40' LIMIT 5"
   ]
  },
  {
   "cell_type": "code",
   "execution_count": 43,
   "metadata": {},
   "outputs": [
    {
     "name": "stdout",
     "output_type": "stream",
     "text": [
      " * ibm_db_sa://xpc66839:***@54a2f15b-5c0f-46df-8954-7e38e612c2bd.c1ogj3sd0tgtu0lqde00.databases.appdomain.cloud:32733/bludb\n",
      "Done.\n"
     ]
    },
    {
     "data": {
      "text/html": [
       "<table>\n",
       "    <tr>\n",
       "        <th>community_area_number</th>\n",
       "    </tr>\n",
       "    <tr>\n",
       "        <td>25</td>\n",
       "    </tr>\n",
       "</table>"
      ],
      "text/plain": [
       "[(25,)]"
      ]
     },
     "execution_count": 43,
     "metadata": {},
     "output_type": "execute_result"
    }
   ],
   "source": [
    "%sql select COMMUNITY_AREA_NUMBER from CHICAGO_CRIME_DATA GROUP BY COMMUNITY_AREA_NUMBER ORDER BY COUNT(*) DESC LIMIT 1;"
   ]
  },
  {
   "cell_type": "code",
   "execution_count": 45,
   "metadata": {},
   "outputs": [
    {
     "name": "stdout",
     "output_type": "stream",
     "text": [
      " * ibm_db_sa://xpc66839:***@54a2f15b-5c0f-46df-8954-7e38e612c2bd.c1ogj3sd0tgtu0lqde00.databases.appdomain.cloud:32733/bludb\n",
      "Done.\n"
     ]
    },
    {
     "data": {
      "text/html": [
       "<table>\n",
       "    <tr>\n",
       "        <th>community_area_name</th>\n",
       "    </tr>\n",
       "    <tr>\n",
       "        <td>Riverdale</td>\n",
       "    </tr>\n",
       "</table>"
      ],
      "text/plain": [
       "[('Riverdale',)]"
      ]
     },
     "execution_count": 45,
     "metadata": {},
     "output_type": "execute_result"
    }
   ],
   "source": [
    "%sql select COMMUNITY_AREA_NAME from CENSUS_DATA where HARDSHIP_INDEX = (select max(HARDSHIP_INDEX) from CENSUS_DATA)"
   ]
  },
  {
   "cell_type": "code",
   "execution_count": 50,
   "metadata": {},
   "outputs": [
    {
     "name": "stdout",
     "output_type": "stream",
     "text": [
      " * ibm_db_sa://xpc66839:***@54a2f15b-5c0f-46df-8954-7e38e612c2bd.c1ogj3sd0tgtu0lqde00.databases.appdomain.cloud:32733/bludb\n",
      "Done.\n"
     ]
    },
    {
     "data": {
      "text/html": [
       "<table>\n",
       "    <tr>\n",
       "        <th>community_area_name</th>\n",
       "    </tr>\n",
       "    <tr>\n",
       "        <td>Austin</td>\n",
       "    </tr>\n",
       "</table>"
      ],
      "text/plain": [
       "[('Austin',)]"
      ]
     },
     "execution_count": 50,
     "metadata": {},
     "output_type": "execute_result"
    }
   ],
   "source": [
    "%sql select COMMUNITY_AREA_NAME from CENSUS_DATA where COMMUNITY_AREA_NUMBER in (select COMMUNITY_AREA_NUMBER from CHICAGO_CRIME_DATA GROUP BY COMMUNITY_AREA_NUMBER ORDER BY COUNT(*) DESC LIMIT 1)"
   ]
  },
  {
   "cell_type": "code",
   "execution_count": null,
   "metadata": {},
   "outputs": [],
   "source": []
  }
 ],
 "metadata": {
  "kernelspec": {
   "display_name": "Python 3",
   "language": "python",
   "name": "python3"
  },
  "language_info": {
   "codemirror_mode": {
    "name": "ipython",
    "version": 3
   },
   "file_extension": ".py",
   "mimetype": "text/x-python",
   "name": "python",
   "nbconvert_exporter": "python",
   "pygments_lexer": "ipython3",
   "version": "3.8.5"
  }
 },
 "nbformat": 4,
 "nbformat_minor": 4
}
